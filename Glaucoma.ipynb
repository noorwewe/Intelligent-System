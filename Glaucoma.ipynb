{
  "nbformat": 4,
  "nbformat_minor": 0,
  "metadata": {
    "colab": {
      "provenance": [],
      "mount_file_id": "177A7mDJulNZD42s4gpwDn5APEauK5Ims",
      "authorship_tag": "ABX9TyPMV6r61E3iO0tl05ZQMB0N",
      "include_colab_link": true
    },
    "kernelspec": {
      "name": "python3",
      "display_name": "Python 3"
    },
    "language_info": {
      "name": "python"
    },
    "accelerator": "GPU",
    "gpuClass": "standard"
  },
  "cells": [
    {
      "cell_type": "markdown",
      "metadata": {
        "id": "view-in-github",
        "colab_type": "text"
      },
      "source": [
        "<a href=\"https://colab.research.google.com/github/noorwewe/Intelligent-System/blob/master/Glaucoma.ipynb\" target=\"_parent\"><img src=\"https://colab.research.google.com/assets/colab-badge.svg\" alt=\"Open In Colab\"/></a>"
      ]
    },
    {
      "cell_type": "code",
      "execution_count": null,
      "metadata": {
        "colab": {
          "base_uri": "https://localhost:8080/"
        },
        "id": "dlrAXMv6LIUB",
        "outputId": "066f90ab-5ff3-4482-f693-fa5786c836ce"
      },
      "outputs": [
        {
          "output_type": "stream",
          "name": "stdout",
          "text": [
            "Mounted at /content/drive\n"
          ]
        }
      ],
      "source": [
        "from google.colab import drive\n",
        "drive.mount('/content/drive')"
      ]
    },
    {
      "cell_type": "code",
      "source": [
        "import pandas as pd\n",
        "import numpy as np\n",
        "from tensorflow.keras.applications.vgg19 import VGG19, preprocess_input\n",
        "from tensorflow.keras.preprocessing.image import ImageDataGenerator\n",
        "from tensorflow.keras.models import Sequential\n",
        "from tensorflow.keras.layers import Dense, Flatten, Dropout\n",
        "from tensorflow.keras.optimizers import Adam\n",
        "from tensorflow.keras import Sequential"
      ],
      "metadata": {
        "id": "RzY6H2SHLscC"
      },
      "execution_count": null,
      "outputs": []
    },
    {
      "cell_type": "code",
      "source": [
        "# Set the paths to your data and label files\n",
        "data_dir = '/content/drive/MyDrive/Glaucoma/Images_Square'\n",
        "label_file = '/content/drive/MyDrive/Glaucoma/G1020.csv'"
      ],
      "metadata": {
        "id": "KZyV-my5LvEH"
      },
      "execution_count": null,
      "outputs": []
    },
    {
      "cell_type": "code",
      "source": [
        "# Set the target size of your input images\n",
        "target_size = (224, 224)"
      ],
      "metadata": {
        "id": "Pj7trjr0MDTF"
      },
      "execution_count": null,
      "outputs": []
    },
    {
      "cell_type": "code",
      "source": [
        "# Set the batch size for training and validation\n",
        "batch_size = 32"
      ],
      "metadata": {
        "id": "bhHUtr1bMHT5"
      },
      "execution_count": null,
      "outputs": []
    },
    {
      "cell_type": "code",
      "source": [
        "# Load the label file using pandas\n",
        "labels_df = pd.read_csv(label_file)"
      ],
      "metadata": {
        "id": "nhv40q4hMNM2"
      },
      "execution_count": null,
      "outputs": []
    },
    {
      "cell_type": "code",
      "source": [
        "# Create an instance of the ImageDataGenerator class for data augmentation\n",
        "train_datagen = ImageDataGenerator(\n",
        "    rescale=1./255,\n",
        "    shear_range=0.2,\n",
        "    zoom_range=0.2,\n",
        "    horizontal_flip=True,\n",
        "    validation_split=0.2\n",
        ")"
      ],
      "metadata": {
        "id": "Q1P5CyXpMQpF"
      },
      "execution_count": null,
      "outputs": []
    },
    {
      "cell_type": "code",
      "source": [
        "# Create a training data generator\n",
        "train_generator = train_datagen.flow_from_dataframe(\n",
        "    dataframe=labels_df,\n",
        "    directory=data_dir,\n",
        "    x_col='imageID',\n",
        "    y_col='binaryLabels',\n",
        "    target_size=target_size,\n",
        "    batch_size=batch_size,\n",
        "    class_mode='raw',\n",
        "    subset='training'\n",
        ")"
      ],
      "metadata": {
        "colab": {
          "base_uri": "https://localhost:8080/"
        },
        "id": "S3zMMqNKMVUn",
        "outputId": "89375ddd-c3c8-4872-e290-2ebdccacf128"
      },
      "execution_count": null,
      "outputs": [
        {
          "output_type": "stream",
          "name": "stdout",
          "text": [
            "Found 816 validated image filenames.\n"
          ]
        }
      ]
    },
    {
      "cell_type": "code",
      "source": [
        "# Create a validation data generator\n",
        "val_generator = train_datagen.flow_from_dataframe(\n",
        "    dataframe=labels_df,\n",
        "    directory=data_dir,\n",
        "    x_col='imageID',\n",
        "    y_col='binaryLabels',\n",
        "    target_size=target_size,\n",
        "    batch_size=batch_size,\n",
        "    class_mode='raw',\n",
        "    subset='validation'\n",
        ")"
      ],
      "metadata": {
        "colab": {
          "base_uri": "https://localhost:8080/"
        },
        "id": "vH1K12omPPdW",
        "outputId": "a59fadd5-a734-4338-9019-023d755c1b60"
      },
      "execution_count": null,
      "outputs": [
        {
          "output_type": "stream",
          "name": "stdout",
          "text": [
            "Found 204 validated image filenames.\n"
          ]
        }
      ]
    },
    {
      "cell_type": "code",
      "source": [
        "# Load the pre-trained VGG19 model and exclude the top layer\n",
        "base_model = VGG19(weights='imagenet', include_top=False, input_shape=target_size+(3,))\n"
      ],
      "metadata": {
        "colab": {
          "base_uri": "https://localhost:8080/"
        },
        "id": "bxQhpF42PZa7",
        "outputId": "8b868393-3a59-41db-9138-ac7dea9f28de"
      },
      "execution_count": null,
      "outputs": [
        {
          "output_type": "stream",
          "name": "stdout",
          "text": [
            "Downloading data from https://storage.googleapis.com/tensorflow/keras-applications/vgg19/vgg19_weights_tf_dim_ordering_tf_kernels_notop.h5\n",
            "80134624/80134624 [==============================] - 0s 0us/step\n"
          ]
        }
      ]
    },
    {
      "cell_type": "code",
      "source": [
        "# Freeze the weights of the pre-trained layers\n",
        "for layer in base_model.layers:\n",
        "    layer.trainable = True;\n"
      ],
      "metadata": {
        "id": "LEQgELcOPeJb"
      },
      "execution_count": null,
      "outputs": []
    },
    {
      "cell_type": "code",
      "source": [
        "# Add new trainable layers on top of the pre-trained model\n",
        "model = Sequential([\n",
        "    base_model,\n",
        "    Flatten(),\n",
        "    Dense(1024, activation='relu'),\n",
        "    Dropout(0.5),\n",
        "    Dense(1, activation='softmax')\n",
        "])"
      ],
      "metadata": {
        "id": "uaJQvgkBPh6b"
      },
      "execution_count": null,
      "outputs": []
    },
    {
      "cell_type": "code",
      "source": [
        "# Compile the model with an optimizer, loss function, and evaluation metric\n",
        "model.compile(optimizer=Adam(lr=1e-4), loss='categorical_crossentropy', metrics=['accuracy'])\n"
      ],
      "metadata": {
        "colab": {
          "base_uri": "https://localhost:8080/"
        },
        "id": "_ixA_rVz5JiA",
        "outputId": "071ee2ec-f222-4678-a12a-d99440361fd9"
      },
      "execution_count": null,
      "outputs": [
        {
          "output_type": "stream",
          "name": "stderr",
          "text": [
            "WARNING:absl:`lr` is deprecated, please use `learning_rate` instead, or use the legacy optimizer, e.g.,tf.keras.optimizers.legacy.Adam.\n"
          ]
        }
      ]
    },
    {
      "cell_type": "code",
      "source": [
        "# Train the model on the training data and evaluate on the validation data\n",
        "history = model.fit(train_generator, epochs=10, validation_data=val_generator)"
      ],
      "metadata": {
        "colab": {
          "base_uri": "https://localhost:8080/"
        },
        "id": "ei0q8SsD5Nlx",
        "outputId": "92701300-b81a-41e8-eb2d-32e184522375"
      },
      "execution_count": null,
      "outputs": [
        {
          "output_type": "stream",
          "name": "stdout",
          "text": [
            "Epoch 1/10\n",
            "26/26 [==============================] - 38s 993ms/step - loss: nan - accuracy: 0.4338 - val_loss: nan - val_accuracy: 0.8333\n",
            "Epoch 2/10\n",
            "26/26 [==============================] - 22s 834ms/step - loss: nan - accuracy: 0.6789 - val_loss: nan - val_accuracy: 0.8333\n",
            "Epoch 3/10\n",
            "26/26 [==============================] - 22s 834ms/step - loss: nan - accuracy: 0.6789 - val_loss: nan - val_accuracy: 0.8333\n",
            "Epoch 4/10\n",
            "26/26 [==============================] - 21s 802ms/step - loss: nan - accuracy: 0.6789 - val_loss: nan - val_accuracy: 0.8333\n",
            "Epoch 5/10\n",
            "26/26 [==============================] - 22s 831ms/step - loss: nan - accuracy: 0.6789 - val_loss: nan - val_accuracy: 0.8333\n",
            "Epoch 6/10\n",
            "26/26 [==============================] - 21s 792ms/step - loss: nan - accuracy: 0.6789 - val_loss: nan - val_accuracy: 0.8333\n",
            "Epoch 7/10\n",
            "26/26 [==============================] - 21s 822ms/step - loss: nan - accuracy: 0.6789 - val_loss: nan - val_accuracy: 0.8333\n",
            "Epoch 8/10\n",
            "26/26 [==============================] - 21s 784ms/step - loss: nan - accuracy: 0.6789 - val_loss: nan - val_accuracy: 0.8333\n",
            "Epoch 9/10\n",
            "26/26 [==============================] - 22s 826ms/step - loss: nan - accuracy: 0.6789 - val_loss: nan - val_accuracy: 0.8333\n",
            "Epoch 10/10\n",
            "26/26 [==============================] - 22s 854ms/step - loss: nan - accuracy: 0.6789 - val_loss: nan - val_accuracy: 0.8333\n"
          ]
        }
      ]
    }
  ]
}