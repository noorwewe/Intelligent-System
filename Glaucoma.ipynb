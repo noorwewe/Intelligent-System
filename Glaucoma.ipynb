{
  "nbformat": 4,
  "nbformat_minor": 0,
  "metadata": {
    "colab": {
      "provenance": [],
      "mount_file_id": "177A7mDJulNZD42s4gpwDn5APEauK5Ims",
      "authorship_tag": "ABX9TyOfBwWkjEEUUdU9bNn6LFng",
      "include_colab_link": true
    },
    "kernelspec": {
      "name": "python3",
      "display_name": "Python 3"
    },
    "language_info": {
      "name": "python"
    },
    "accelerator": "TPU",
    "gpuClass": "standard"
  },
  "cells": [
    {
      "cell_type": "markdown",
      "metadata": {
        "id": "view-in-github",
        "colab_type": "text"
      },
      "source": [
        "<a href=\"https://colab.research.google.com/github/noorwewe/Intelligent-System/blob/master/Glaucoma.ipynb\" target=\"_parent\"><img src=\"https://colab.research.google.com/assets/colab-badge.svg\" alt=\"Open In Colab\"/></a>"
      ]
    },
    {
      "cell_type": "code",
      "execution_count": null,
      "metadata": {
        "colab": {
          "base_uri": "https://localhost:8080/"
        },
        "id": "dlrAXMv6LIUB",
        "outputId": "066f90ab-5ff3-4482-f693-fa5786c836ce"
      },
      "outputs": [
        {
          "output_type": "stream",
          "name": "stdout",
          "text": [
            "Mounted at /content/drive\n"
          ]
        }
      ],
      "source": [
        "#from google.colab import drive\n",
        "#drive.mount('/content/drive')"
      ]
    },
    {
      "cell_type": "code",
      "source": [
        "import pandas as pd\n",
        "import numpy as np\n",
        "from tensorflow.keras.applications.vgg19 import VGG19, preprocess_input\n",
        "#from tensorflow.keras.applications.efficientnet import EfficientNetB7\n",
        "#from tensorflow.keras.applications import ResNet101\n",
        "from tensorflow.keras.preprocessing.image import ImageDataGenerator\n",
        "from tensorflow.keras.models import Sequential\n",
        "from tensorflow.keras.layers import Dense, Flatten, Dropout\n",
        "from tensorflow.keras.optimizers import Adam\n",
        "from tensorflow.keras import Sequential"
      ],
      "metadata": {
        "id": "RzY6H2SHLscC"
      },
      "execution_count": 1,
      "outputs": []
    },
    {
      "cell_type": "code",
      "source": [
        "# Set the paths to your data and label files\n",
        "data_dir = '/content/drive/MyDrive/Glaucoma/Images_Square'\n",
        "label_file = '/content/drive/MyDrive/Glaucoma/G1020.csv'"
      ],
      "metadata": {
        "id": "KZyV-my5LvEH"
      },
      "execution_count": 2,
      "outputs": []
    },
    {
      "cell_type": "code",
      "source": [
        "# Set the target size of your input images\n",
        "target_size = (224, 224)"
      ],
      "metadata": {
        "id": "Pj7trjr0MDTF"
      },
      "execution_count": 3,
      "outputs": []
    },
    {
      "cell_type": "code",
      "source": [
        "# Set the batch size for training and validation\n",
        "batch_size = 32"
      ],
      "metadata": {
        "id": "bhHUtr1bMHT5"
      },
      "execution_count": 4,
      "outputs": []
    },
    {
      "cell_type": "code",
      "source": [
        "# Load the label file using pandas\n",
        "labels_df = pd.read_csv(label_file)"
      ],
      "metadata": {
        "id": "nhv40q4hMNM2"
      },
      "execution_count": 5,
      "outputs": []
    },
    {
      "cell_type": "code",
      "source": [
        "# Create an instance of the ImageDataGenerator class for data augmentation\n",
        "train_datagen = ImageDataGenerator(\n",
        "    rescale=1./255,\n",
        "    shear_range=0.2,\n",
        "    zoom_range=0.2,\n",
        "    horizontal_flip=True,\n",
        "    validation_split=0.2\n",
        ")"
      ],
      "metadata": {
        "id": "Q1P5CyXpMQpF"
      },
      "execution_count": 6,
      "outputs": []
    },
    {
      "cell_type": "code",
      "source": [
        "# Create a training data generator\n",
        "train_generator = train_datagen.flow_from_dataframe(\n",
        "    dataframe=labels_df,\n",
        "    directory=data_dir,\n",
        "    x_col='imageID',\n",
        "    y_col='binaryLabels',\n",
        "    target_size=target_size,\n",
        "    batch_size=batch_size,\n",
        "    class_mode='raw',\n",
        "    subset='training'\n",
        ")"
      ],
      "metadata": {
        "colab": {
          "base_uri": "https://localhost:8080/"
        },
        "id": "S3zMMqNKMVUn",
        "outputId": "038940bd-ae92-483c-9b31-ec932281653c"
      },
      "execution_count": 7,
      "outputs": [
        {
          "output_type": "stream",
          "name": "stdout",
          "text": [
            "Found 816 validated image filenames.\n"
          ]
        }
      ]
    },
    {
      "cell_type": "code",
      "source": [
        "# Create a validation data generator\n",
        "val_generator = train_datagen.flow_from_dataframe(\n",
        "    dataframe=labels_df,\n",
        "    directory=data_dir,\n",
        "    x_col='imageID',\n",
        "    y_col='binaryLabels',\n",
        "    target_size=target_size,\n",
        "    batch_size=batch_size,\n",
        "    class_mode='raw',\n",
        "    subset='validation'\n",
        ")"
      ],
      "metadata": {
        "colab": {
          "base_uri": "https://localhost:8080/"
        },
        "id": "vH1K12omPPdW",
        "outputId": "311c3de9-7d1f-4e58-8fa5-9b83ac03c868"
      },
      "execution_count": 8,
      "outputs": [
        {
          "output_type": "stream",
          "name": "stdout",
          "text": [
            "Found 204 validated image filenames.\n"
          ]
        }
      ]
    },
    {
      "cell_type": "code",
      "source": [
        "# Load the pre-trained VGG19 model and exclude the top layer\n",
        "base_model = VGG19(weights='imagenet', include_top=False, input_shape=target_size+(3,))\n",
        "#base_model = EfficientNetB7(weights='imagenet', include_top=False, input_shape=target_size+(3,))\n",
        "#base_model = RestNet101(weights='imagenet', include_top=False, input_shape=target_size+(3,))\n"
      ],
      "metadata": {
        "colab": {
          "base_uri": "https://localhost:8080/"
        },
        "id": "bxQhpF42PZa7",
        "outputId": "056c62c2-dbaf-42c1-d809-e81c435cb8e2"
      },
      "execution_count": 9,
      "outputs": [
        {
          "output_type": "stream",
          "name": "stdout",
          "text": [
            "Downloading data from https://storage.googleapis.com/tensorflow/keras-applications/vgg19/vgg19_weights_tf_dim_ordering_tf_kernels_notop.h5\n",
            "80134624/80134624 [==============================] - 1s 0us/step\n"
          ]
        }
      ]
    },
    {
      "cell_type": "code",
      "source": [
        "# Replace the output layer with a single-unit dense layer with sigmoid activation for binary classification\n",
        "#base_model.layers.pop()\n",
        "#base_model.layers.pop()\n",
        "#base_model.outputs = [base_model.layers[-1].output]\n",
        "#base_model.layers[-1].outbound_nodes = []\n",
        "\n",
        "#base_model.add(Dense(1, activation='sigmoid'))"
      ],
      "metadata": {
        "id": "Cuan5DpkNT3V"
      },
      "execution_count": 63,
      "outputs": []
    },
    {
      "cell_type": "code",
      "source": [
        "# Freeze the weights of the pre-trained layers\n",
        "#for layer in base_model.layers:\n",
        "#    layer.trainable = True;\n"
      ],
      "metadata": {
        "id": "LEQgELcOPeJb"
      },
      "execution_count": 11,
      "outputs": []
    },
    {
      "cell_type": "code",
      "source": [
        "# Add new trainable layers on top of the pre-trained model\n",
        "model = Sequential([\n",
        "    base_model,\n",
        "    Flatten(),\n",
        "    Dense(4096, activation='relu'),\n",
        "    Dropout(0),\n",
        "    Dense(4096, activation='relu'),\n",
        "    Dropout(0),\n",
        "    Dense(1, activation='sigmoid')\n",
        "\n",
        "])"
      ],
      "metadata": {
        "id": "uaJQvgkBPh6b"
      },
      "execution_count": 10,
      "outputs": []
    },
    {
      "cell_type": "code",
      "source": [
        "print(model.summary())"
      ],
      "metadata": {
        "colab": {
          "base_uri": "https://localhost:8080/"
        },
        "id": "I5Ll-SwyJRZ4",
        "outputId": "0c038560-5a22-4adc-eda5-b52b21f6fb1d"
      },
      "execution_count": 11,
      "outputs": [
        {
          "output_type": "stream",
          "name": "stdout",
          "text": [
            "Model: \"sequential\"\n",
            "_________________________________________________________________\n",
            " Layer (type)                Output Shape              Param #   \n",
            "=================================================================\n",
            " vgg19 (Functional)          (None, 7, 7, 512)         20024384  \n",
            "                                                                 \n",
            " flatten (Flatten)           (None, 25088)             0         \n",
            "                                                                 \n",
            " dense (Dense)               (None, 4096)              102764544 \n",
            "                                                                 \n",
            " dropout (Dropout)           (None, 4096)              0         \n",
            "                                                                 \n",
            " dense_1 (Dense)             (None, 4096)              16781312  \n",
            "                                                                 \n",
            " dropout_1 (Dropout)         (None, 4096)              0         \n",
            "                                                                 \n",
            " dense_2 (Dense)             (None, 1)                 4097      \n",
            "                                                                 \n",
            "=================================================================\n",
            "Total params: 139,574,337\n",
            "Trainable params: 139,574,337\n",
            "Non-trainable params: 0\n",
            "_________________________________________________________________\n",
            "None\n"
          ]
        }
      ]
    },
    {
      "cell_type": "code",
      "source": [
        "# Compile the model with an optimizer, loss function, and evaluation metric\n",
        "model.compile(optimizer=Adam(learning_rate=1e-4), loss='binary_crossentropy', metrics=['accuracy'])\n"
      ],
      "metadata": {
        "id": "_ixA_rVz5JiA"
      },
      "execution_count": 12,
      "outputs": []
    },
    {
      "cell_type": "code",
      "source": [
        "# Train the model on the training data and evaluate on the validation data\n",
        "history = model.fit(train_generator, epochs=3, validation_data=val_generator)"
      ],
      "metadata": {
        "colab": {
          "base_uri": "https://localhost:8080/"
        },
        "id": "ei0q8SsD5Nlx",
        "outputId": "c0b3e56f-2187-4985-a527-1c2e7a00bd4e"
      },
      "execution_count": 13,
      "outputs": [
        {
          "output_type": "stream",
          "name": "stdout",
          "text": [
            "Epoch 1/3\n",
            "26/26 [==============================] - 2641s 101s/step - loss: 0.8470 - accuracy: 0.6324 - val_loss: 0.5438 - val_accuracy: 0.8333\n",
            "Epoch 2/3\n",
            "26/26 [==============================] - 2614s 101s/step - loss: 0.6455 - accuracy: 0.6642 - val_loss: 0.4622 - val_accuracy: 0.8333\n",
            "Epoch 3/3\n",
            "26/26 [==============================] - 2616s 101s/step - loss: 0.6341 - accuracy: 0.6789 - val_loss: 0.5119 - val_accuracy: 0.8333\n"
          ]
        }
      ]
    },
    {
      "cell_type": "code",
      "source": [
        "model.save('percobaanVGG19Glaucoma.h5')"
      ],
      "metadata": {
        "id": "noklFLyISDc_"
      },
      "execution_count": 14,
      "outputs": []
    },
    {
      "cell_type": "code",
      "source": [
        "from keras.models import load_model\n",
        "model=load_model('percobaanVGG19Glaucoma.h5')"
      ],
      "metadata": {
        "id": "GV1Sb5TUSWTr"
      },
      "execution_count": 17,
      "outputs": []
    },
    {
      "cell_type": "code",
      "source": [
        "from tensorflow.keras.preprocessing.image import load_img, img_to_array\n",
        "import os\n",
        "\n",
        "# Define the directory containing the images to classify\n",
        "image_dir = '/content/drive/MyDrive/Glaucoma/Images_Classify'"
      ],
      "metadata": {
        "id": "yAR6ENokTJNh"
      },
      "execution_count": 15,
      "outputs": []
    },
    {
      "cell_type": "code",
      "source": [
        "# Loop through all the images in the directory\n",
        "for filename in os.listdir(image_dir):\n",
        "    if filename.endswith('.jpg'):\n",
        "        # Load the image\n",
        "        image_path = os.path.join(image_dir, filename)\n",
        "        image = load_img(image_path, target_size=(224, 224))\n",
        "        image_array = img_to_array(image)\n",
        "        image_array = np.expand_dims(image_array, axis=0)\n",
        "\n",
        "        # Preprocess the image using the preprocess_input function from the VGG19 module\n",
        "        preprocessed_image = preprocess_input(image_array)\n",
        "\n",
        "        # Use the model to predict the class of the image\n",
        "        prediction = model.predict(preprocessed_image)\n",
        "\n",
        "        # Print the predicted class label\n",
        "        if prediction > 0.5:\n",
        "            print(f'{filename} is classified as class 1')\n",
        "        else:\n",
        "            print(f'{filename} is classified as class 0')\n",
        "\n"
      ],
      "metadata": {
        "colab": {
          "base_uri": "https://localhost:8080/"
        },
        "id": "JMsEncynT4Ls",
        "outputId": "2bcece43-9360-49df-9bb7-1c8faa390c76"
      },
      "execution_count": 16,
      "outputs": [
        {
          "output_type": "stream",
          "name": "stdout",
          "text": [
            "1/1 [==============================] - 2s 2s/step\n",
            "image_3184.jpg is classified as class 0\n"
          ]
        }
      ]
    }
  ]
}