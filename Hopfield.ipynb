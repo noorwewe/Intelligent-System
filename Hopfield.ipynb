{
  "nbformat": 4,
  "nbformat_minor": 0,
  "metadata": {
    "colab": {
      "name": "Hopfield.ipynb",
      "provenance": [],
      "authorship_tag": "ABX9TyOhVFFif0ROA6UU4Ps164WF",
      "include_colab_link": true
    },
    "kernelspec": {
      "name": "python3",
      "display_name": "Python 3"
    }
  },
  "cells": [
    {
      "cell_type": "markdown",
      "metadata": {
        "id": "view-in-github",
        "colab_type": "text"
      },
      "source": [
        "<a href=\"https://colab.research.google.com/github/noorwewe/Intelligent-System/blob/Recurrent-neural-network/Hopfield.ipynb\" target=\"_parent\"><img src=\"https://colab.research.google.com/assets/colab-badge.svg\" alt=\"Open In Colab\"/></a>"
      ]
    },
    {
      "cell_type": "markdown",
      "metadata": {
        "id": "nSBl0A3xTH08",
        "colab_type": "text"
      },
      "source": [
        "Import library "
      ]
    },
    {
      "cell_type": "code",
      "metadata": {
        "id": "Pn8_2jgesROW",
        "colab_type": "code",
        "colab": {}
      },
      "source": [
        "import numpy as np"
      ],
      "execution_count": 0,
      "outputs": []
    },
    {
      "cell_type": "markdown",
      "metadata": {
        "id": "sLdrXswjTND_",
        "colab_type": "text"
      },
      "source": [
        "Menghitung matriks W dan pengujian"
      ]
    },
    {
      "cell_type": "code",
      "metadata": {
        "id": "cT-iaoFJrl8Z",
        "colab_type": "code",
        "colab": {
          "base_uri": "https://localhost:8080/",
          "height": 52
        },
        "outputId": "8b54c880-0599-46bf-afec-d4030a34a598"
      },
      "source": [
        "Y1 = np.matrix([1,1,1])\n",
        "Y2 = np.matrix([-1,-1,-1])\n",
        "Theta = np.transpose(np.matrix([0,0,0]))\n",
        "W = np.multiply(Y1,np.transpose(Y1)) + np.multiply(Y2, np.transpose(Y2))- 2*np.eye(3)\n",
        "Yinput1 = np.transpose(Y1)\n",
        "Yinput2 = np.transpose(Y2)\n",
        "Yout1 = np.sign(np.matmul(W,Yinput1))\n",
        "Yout2 = np.sign(np.matmul(W,Yinput2))\n",
        "comparison1 = Yout1 == Yinput1\n",
        "comparison2 = Yout2 == Yinput2\n",
        "if comparison1.all():\n",
        "  print(\"State 1 Valid\")\n",
        "if comparison2.all():\n",
        "  print(\"State 2 Valid\")"
      ],
      "execution_count": 86,
      "outputs": [
        {
          "output_type": "stream",
          "text": [
            "State 1 Valid\n",
            "State 2 Valid\n"
          ],
          "name": "stdout"
        }
      ]
    },
    {
      "cell_type": "markdown",
      "metadata": {
        "id": "DrBGmEEySu7w",
        "colab_type": "text"
      },
      "source": [
        "Iterasi error correction"
      ]
    },
    {
      "cell_type": "code",
      "metadata": {
        "id": "fdq4I_uDRkzo",
        "colab_type": "code",
        "colab": {
          "base_uri": "https://localhost:8080/",
          "height": 1000
        },
        "outputId": "4dbea8f0-cb73-4b18-eabf-3f0951e586d6"
      },
      "source": [
        "Yinput = np.transpose(np.matrix([-1,1,1]))\n",
        "for j in range(10):\n",
        "  Yout=np.sign(np.matmul(W,Yinput)-Theta)\n",
        "  Yinput = Yout\n",
        "  p = j+1\n",
        "  print (\"------\")\n",
        "  print(\"Iterasi ke\")\n",
        "  print(p)\n",
        "  print(\"Hasil Yout\")\n",
        "  print(Yout)\n",
        "  print (\"------\")"
      ],
      "execution_count": 87,
      "outputs": [
        {
          "output_type": "stream",
          "text": [
            "------\n",
            "Iterasi ke\n",
            "1\n",
            "Hasil Yout\n",
            "[[1.]\n",
            " [0.]\n",
            " [0.]]\n",
            "------\n",
            "------\n",
            "Iterasi ke\n",
            "2\n",
            "Hasil Yout\n",
            "[[0.]\n",
            " [1.]\n",
            " [1.]]\n",
            "------\n",
            "------\n",
            "Iterasi ke\n",
            "3\n",
            "Hasil Yout\n",
            "[[1.]\n",
            " [1.]\n",
            " [1.]]\n",
            "------\n",
            "------\n",
            "Iterasi ke\n",
            "4\n",
            "Hasil Yout\n",
            "[[1.]\n",
            " [1.]\n",
            " [1.]]\n",
            "------\n",
            "------\n",
            "Iterasi ke\n",
            "5\n",
            "Hasil Yout\n",
            "[[1.]\n",
            " [1.]\n",
            " [1.]]\n",
            "------\n",
            "------\n",
            "Iterasi ke\n",
            "6\n",
            "Hasil Yout\n",
            "[[1.]\n",
            " [1.]\n",
            " [1.]]\n",
            "------\n",
            "------\n",
            "Iterasi ke\n",
            "7\n",
            "Hasil Yout\n",
            "[[1.]\n",
            " [1.]\n",
            " [1.]]\n",
            "------\n",
            "------\n",
            "Iterasi ke\n",
            "8\n",
            "Hasil Yout\n",
            "[[1.]\n",
            " [1.]\n",
            " [1.]]\n",
            "------\n",
            "------\n",
            "Iterasi ke\n",
            "9\n",
            "Hasil Yout\n",
            "[[1.]\n",
            " [1.]\n",
            " [1.]]\n",
            "------\n",
            "------\n",
            "Iterasi ke\n",
            "10\n",
            "Hasil Yout\n",
            "[[1.]\n",
            " [1.]\n",
            " [1.]]\n",
            "------\n"
          ],
          "name": "stdout"
        }
      ]
    }
  ]
}