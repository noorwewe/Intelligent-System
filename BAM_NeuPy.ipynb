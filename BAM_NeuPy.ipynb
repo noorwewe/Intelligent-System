{
  "nbformat": 4,
  "nbformat_minor": 0,
  "metadata": {
    "colab": {
      "name": "BAM NeuPy.ipynb",
      "provenance": [],
      "authorship_tag": "ABX9TyOUZTZDsRexz6635opYfs8Y",
      "include_colab_link": true
    },
    "kernelspec": {
      "name": "python3",
      "display_name": "Python 3"
    }
  },
  "cells": [
    {
      "cell_type": "markdown",
      "metadata": {
        "id": "view-in-github",
        "colab_type": "text"
      },
      "source": [
        "<a href=\"https://colab.research.google.com/github/noorwewe/Intelligent-System/blob/Recurrent-neural-network/BAM_NeuPy.ipynb\" target=\"_parent\"><img src=\"https://colab.research.google.com/assets/colab-badge.svg\" alt=\"Open In Colab\"/></a>"
      ]
    },
    {
      "cell_type": "code",
      "metadata": {
        "id": "CAYlWyrYI693",
        "colab_type": "code",
        "colab": {
          "base_uri": "https://localhost:8080/",
          "height": 1000
        },
        "outputId": "e5175ae3-9e74-4dbc-ebc4-2d6c6de17bad"
      },
      "source": [
        "pip install neupy"
      ],
      "execution_count": 1,
      "outputs": [
        {
          "output_type": "stream",
          "text": [
            "Collecting neupy\n",
            "\u001b[?25l  Downloading https://files.pythonhosted.org/packages/21/be/19082cbe9a6c76dd909255341587f0b487cd3e9d32d44debda013d2accd1/neupy-0.8.2-py2.py3-none-any.whl (226kB)\n",
            "\r\u001b[K     |█▌                              | 10kB 16.5MB/s eta 0:00:01\r\u001b[K     |███                             | 20kB 1.7MB/s eta 0:00:01\r\u001b[K     |████▍                           | 30kB 2.6MB/s eta 0:00:01\r\u001b[K     |█████▉                          | 40kB 1.7MB/s eta 0:00:01\r\u001b[K     |███████▎                        | 51kB 2.1MB/s eta 0:00:01\r\u001b[K     |████████▊                       | 61kB 2.5MB/s eta 0:00:01\r\u001b[K     |██████████▏                     | 71kB 2.9MB/s eta 0:00:01\r\u001b[K     |███████████▋                    | 81kB 3.2MB/s eta 0:00:01\r\u001b[K     |█████████████                   | 92kB 3.6MB/s eta 0:00:01\r\u001b[K     |██████████████▌                 | 102kB 2.8MB/s eta 0:00:01\r\u001b[K     |████████████████                | 112kB 2.8MB/s eta 0:00:01\r\u001b[K     |█████████████████▍              | 122kB 2.8MB/s eta 0:00:01\r\u001b[K     |██████████████████▉             | 133kB 2.8MB/s eta 0:00:01\r\u001b[K     |████████████████████▎           | 143kB 2.8MB/s eta 0:00:01\r\u001b[K     |█████████████████████▊          | 153kB 2.8MB/s eta 0:00:01\r\u001b[K     |███████████████████████▏        | 163kB 2.8MB/s eta 0:00:01\r\u001b[K     |████████████████████████▋       | 174kB 2.8MB/s eta 0:00:01\r\u001b[K     |██████████████████████████      | 184kB 2.8MB/s eta 0:00:01\r\u001b[K     |███████████████████████████▌    | 194kB 2.8MB/s eta 0:00:01\r\u001b[K     |█████████████████████████████   | 204kB 2.8MB/s eta 0:00:01\r\u001b[K     |██████████████████████████████▍ | 215kB 2.8MB/s eta 0:00:01\r\u001b[K     |███████████████████████████████▉| 225kB 2.8MB/s eta 0:00:01\r\u001b[K     |████████████████████████████████| 235kB 2.8MB/s \n",
            "\u001b[?25hCollecting progressbar2==3.34.3\n",
            "  Downloading https://files.pythonhosted.org/packages/87/31/b984e17bcc7491c1baeda3906fe3abc14cb5cd5dbd046ab46d9fc7a2edfd/progressbar2-3.34.3-py2.py3-none-any.whl\n",
            "Collecting tensorflow<1.14.0,>=1.10.1\n",
            "\u001b[?25l  Downloading https://files.pythonhosted.org/packages/db/d3/651f95288a6cd9094f7411cdd90ef12a3d01a268009e0e3cd66b5c8d65bd/tensorflow-1.13.2-cp36-cp36m-manylinux1_x86_64.whl (92.6MB)\n",
            "\u001b[K     |████████████████████████████████| 92.6MB 71kB/s \n",
            "\u001b[?25hCollecting graphviz==0.5.1\n",
            "  Downloading https://files.pythonhosted.org/packages/55/8d/18e45d3f57adfde20ac831a5ba7144b9e643185e05eb0a02b6f22d076752/graphviz-0.5.1-py2.py3-none-any.whl\n",
            "Requirement already satisfied: scipy>=0.19.0 in /usr/local/lib/python3.6/dist-packages (from neupy) (1.4.1)\n",
            "Requirement already satisfied: matplotlib>=1.5.1 in /usr/local/lib/python3.6/dist-packages (from neupy) (3.2.1)\n",
            "Requirement already satisfied: numpy>=1.13.3 in /usr/local/lib/python3.6/dist-packages (from neupy) (1.18.2)\n",
            "Requirement already satisfied: h5py in /usr/local/lib/python3.6/dist-packages (from neupy) (2.10.0)\n",
            "Requirement already satisfied: python-utils>=2.1.0 in /usr/local/lib/python3.6/dist-packages (from progressbar2==3.34.3->neupy) (2.4.0)\n",
            "Requirement already satisfied: termcolor>=1.1.0 in /usr/local/lib/python3.6/dist-packages (from tensorflow<1.14.0,>=1.10.1->neupy) (1.1.0)\n",
            "Requirement already satisfied: gast>=0.2.0 in /usr/local/lib/python3.6/dist-packages (from tensorflow<1.14.0,>=1.10.1->neupy) (0.3.3)\n",
            "Requirement already satisfied: grpcio>=1.8.6 in /usr/local/lib/python3.6/dist-packages (from tensorflow<1.14.0,>=1.10.1->neupy) (1.28.1)\n",
            "Requirement already satisfied: wheel>=0.26 in /usr/local/lib/python3.6/dist-packages (from tensorflow<1.14.0,>=1.10.1->neupy) (0.34.2)\n",
            "Requirement already satisfied: six>=1.10.0 in /usr/local/lib/python3.6/dist-packages (from tensorflow<1.14.0,>=1.10.1->neupy) (1.12.0)\n",
            "Collecting tensorboard<1.14.0,>=1.13.0\n",
            "\u001b[?25l  Downloading https://files.pythonhosted.org/packages/0f/39/bdd75b08a6fba41f098b6cb091b9e8c7a80e1b4d679a581a0ccd17b10373/tensorboard-1.13.1-py3-none-any.whl (3.2MB)\n",
            "\u001b[K     |████████████████████████████████| 3.2MB 35.6MB/s \n",
            "\u001b[?25hCollecting tensorflow-estimator<1.14.0rc0,>=1.13.0\n",
            "\u001b[?25l  Downloading https://files.pythonhosted.org/packages/bb/48/13f49fc3fa0fdf916aa1419013bb8f2ad09674c275b4046d5ee669a46873/tensorflow_estimator-1.13.0-py2.py3-none-any.whl (367kB)\n",
            "\u001b[K     |████████████████████████████████| 368kB 49.8MB/s \n",
            "\u001b[?25hRequirement already satisfied: keras-preprocessing>=1.0.5 in /usr/local/lib/python3.6/dist-packages (from tensorflow<1.14.0,>=1.10.1->neupy) (1.1.0)\n",
            "Requirement already satisfied: keras-applications>=1.0.6 in /usr/local/lib/python3.6/dist-packages (from tensorflow<1.14.0,>=1.10.1->neupy) (1.0.8)\n",
            "Requirement already satisfied: absl-py>=0.1.6 in /usr/local/lib/python3.6/dist-packages (from tensorflow<1.14.0,>=1.10.1->neupy) (0.9.0)\n",
            "Requirement already satisfied: astor>=0.6.0 in /usr/local/lib/python3.6/dist-packages (from tensorflow<1.14.0,>=1.10.1->neupy) (0.8.1)\n",
            "Requirement already satisfied: protobuf>=3.6.1 in /usr/local/lib/python3.6/dist-packages (from tensorflow<1.14.0,>=1.10.1->neupy) (3.10.0)\n",
            "Requirement already satisfied: python-dateutil>=2.1 in /usr/local/lib/python3.6/dist-packages (from matplotlib>=1.5.1->neupy) (2.8.1)\n",
            "Requirement already satisfied: cycler>=0.10 in /usr/local/lib/python3.6/dist-packages (from matplotlib>=1.5.1->neupy) (0.10.0)\n",
            "Requirement already satisfied: pyparsing!=2.0.4,!=2.1.2,!=2.1.6,>=2.0.1 in /usr/local/lib/python3.6/dist-packages (from matplotlib>=1.5.1->neupy) (2.4.7)\n",
            "Requirement already satisfied: kiwisolver>=1.0.1 in /usr/local/lib/python3.6/dist-packages (from matplotlib>=1.5.1->neupy) (1.2.0)\n",
            "Requirement already satisfied: markdown>=2.6.8 in /usr/local/lib/python3.6/dist-packages (from tensorboard<1.14.0,>=1.13.0->tensorflow<1.14.0,>=1.10.1->neupy) (3.2.1)\n",
            "Requirement already satisfied: werkzeug>=0.11.15 in /usr/local/lib/python3.6/dist-packages (from tensorboard<1.14.0,>=1.13.0->tensorflow<1.14.0,>=1.10.1->neupy) (1.0.1)\n",
            "Collecting mock>=2.0.0\n",
            "  Downloading https://files.pythonhosted.org/packages/cd/74/d72daf8dff5b6566db857cfd088907bb0355f5dd2914c4b3ef065c790735/mock-4.0.2-py3-none-any.whl\n",
            "Requirement already satisfied: setuptools in /usr/local/lib/python3.6/dist-packages (from protobuf>=3.6.1->tensorflow<1.14.0,>=1.10.1->neupy) (46.1.3)\n",
            "Installing collected packages: progressbar2, tensorboard, mock, tensorflow-estimator, tensorflow, graphviz, neupy\n",
            "  Found existing installation: progressbar2 3.38.0\n",
            "    Uninstalling progressbar2-3.38.0:\n",
            "      Successfully uninstalled progressbar2-3.38.0\n",
            "  Found existing installation: tensorboard 2.2.0\n",
            "    Uninstalling tensorboard-2.2.0:\n",
            "      Successfully uninstalled tensorboard-2.2.0\n",
            "  Found existing installation: tensorflow-estimator 2.2.0rc0\n",
            "    Uninstalling tensorflow-estimator-2.2.0rc0:\n",
            "      Successfully uninstalled tensorflow-estimator-2.2.0rc0\n",
            "  Found existing installation: tensorflow 2.2.0rc3\n",
            "    Uninstalling tensorflow-2.2.0rc3:\n",
            "      Successfully uninstalled tensorflow-2.2.0rc3\n",
            "  Found existing installation: graphviz 0.10.1\n",
            "    Uninstalling graphviz-0.10.1:\n",
            "      Successfully uninstalled graphviz-0.10.1\n",
            "Successfully installed graphviz-0.5.1 mock-4.0.2 neupy-0.8.2 progressbar2-3.34.3 tensorboard-1.13.1 tensorflow-1.13.2 tensorflow-estimator-1.13.0\n"
          ],
          "name": "stdout"
        }
      ]
    },
    {
      "cell_type": "code",
      "metadata": {
        "id": "9yw5xr3XI81Y",
        "colab_type": "code",
        "colab": {}
      },
      "source": [
        "import numpy as np\n",
        "from neupy import algorithms"
      ],
      "execution_count": 0,
      "outputs": []
    },
    {
      "cell_type": "code",
      "metadata": {
        "id": "Qa6GcHEJJP91",
        "colab_type": "code",
        "colab": {}
      },
      "source": [
        "zero = np.matrix([\n",
        "...     0, 1, 1, 1, 0,\n",
        "...     1, 0, 0, 0, 1,\n",
        "...     1, 0, 0, 0, 1,\n",
        "...     1, 0, 0, 0, 1,\n",
        "...     1, 0, 0, 0, 1,\n",
        "...     0, 1, 1, 1, 0\n",
        "... ])"
      ],
      "execution_count": 0,
      "outputs": []
    },
    {
      "cell_type": "code",
      "metadata": {
        "id": "EGTTCUpfKEe9",
        "colab_type": "code",
        "colab": {}
      },
      "source": [
        "one = np.matrix([\n",
        "...     0, 1, 1, 0, 0,\n",
        "...     0, 0, 1, 0, 0,\n",
        "...     0, 0, 1, 0, 0,\n",
        "...     0, 0, 1, 0, 0,\n",
        "...     0, 0, 1, 0, 0,\n",
        "...     0, 0, 1, 0, 0\n",
        "... ])"
      ],
      "execution_count": 0,
      "outputs": []
    },
    {
      "cell_type": "code",
      "metadata": {
        "id": "kDrEkhg_KPao",
        "colab_type": "code",
        "colab": {}
      },
      "source": [
        "zero.reshape((5, 6))"
      ],
      "execution_count": 0,
      "outputs": []
    },
    {
      "cell_type": "code",
      "metadata": {
        "id": "w3Zl9ZOaKgrL",
        "colab_type": "code",
        "colab": {}
      },
      "source": [
        "half_zero = np.matrix([\n",
        "...     0, 1, 1, 1, 0,\n",
        "...     1, 0, 0, 0, 1,\n",
        "...     1, 0, 0, 0, 1,\n",
        "...     0, 0, 0, 0, 0,\n",
        "...     0, 0, 0, 0, 0,\n",
        "...     0, 0, 0, 0, 0,\n",
        "... ])"
      ],
      "execution_count": 0,
      "outputs": []
    },
    {
      "cell_type": "code",
      "metadata": {
        "id": "drgUL97qL_5A",
        "colab_type": "code",
        "colab": {}
      },
      "source": [
        "half_one = np.matrix([\n",
        "...     0, 1, 1, 0, 0,\n",
        "...     0, 0, 1, 0, 0,\n",
        "...     0, 0, 1, 0, 0,\n",
        "...     0, 0, 0, 0, 0,\n",
        "...     0, 0, 0, 0, 0,\n",
        "...     0, 0, 0, 0, 0\n",
        "... ])"
      ],
      "execution_count": 0,
      "outputs": []
    },
    {
      "cell_type": "code",
      "metadata": {
        "id": "JknpxN-jKlwM",
        "colab_type": "code",
        "colab": {}
      },
      "source": [
        "zero_hint = np.matrix([[0, 1, 0, 0]])"
      ],
      "execution_count": 0,
      "outputs": []
    },
    {
      "cell_type": "code",
      "metadata": {
        "id": "kXSI-If_KzAe",
        "colab_type": "code",
        "colab": {}
      },
      "source": [
        "one_hint = np.matrix([[1, 0, 0, 0]])"
      ],
      "execution_count": 0,
      "outputs": []
    },
    {
      "cell_type": "code",
      "metadata": {
        "id": "BpPDimtMK5De",
        "colab_type": "code",
        "colab": {
          "base_uri": "https://localhost:8080/",
          "height": 52
        },
        "outputId": "f2c44d13-8c51-4b21-f692-f913303f28e9"
      },
      "source": [
        "data = np.concatenate([zero, one], axis=0)\n",
        "print(data)"
      ],
      "execution_count": 20,
      "outputs": [
        {
          "output_type": "stream",
          "text": [
            "[[0 1 1 1 0 1 0 0 0 1 1 0 0 0 1 1 0 0 0 1 1 0 0 0 1 0 1 1 1 0]\n",
            " [0 1 1 0 0 0 0 1 0 0 0 0 1 0 0 0 0 1 0 0 0 0 1 0 0 0 0 1 0 0]]\n"
          ],
          "name": "stdout"
        }
      ]
    },
    {
      "cell_type": "code",
      "metadata": {
        "id": "xv-jwAXTK9Ob",
        "colab_type": "code",
        "colab": {
          "base_uri": "https://localhost:8080/",
          "height": 52
        },
        "outputId": "8be93a4e-260a-445d-a212-54f3ef07c7cc"
      },
      "source": [
        "hints = np.concatenate([zero_hint, one_hint], axis=0)\n",
        "print(hints)"
      ],
      "execution_count": 21,
      "outputs": [
        {
          "output_type": "stream",
          "text": [
            "[[0 1 0 0]\n",
            " [1 0 0 0]]\n"
          ],
          "name": "stdout"
        }
      ]
    },
    {
      "cell_type": "code",
      "metadata": {
        "id": "QFneJE-dLDcT",
        "colab_type": "code",
        "colab": {}
      },
      "source": [
        "bamnet = algorithms.DiscreteBAM(mode='sync')"
      ],
      "execution_count": 0,
      "outputs": []
    },
    {
      "cell_type": "code",
      "metadata": {
        "id": "pKljlVfZLGd2",
        "colab_type": "code",
        "colab": {}
      },
      "source": [
        "bamnet.train(data, hints)"
      ],
      "execution_count": 0,
      "outputs": []
    },
    {
      "cell_type": "code",
      "metadata": {
        "id": "NxXG_5WpLMWT",
        "colab_type": "code",
        "colab": {}
      },
      "source": [
        "recovered_zero, recovered_hint = bamnet.predict(half_zero)"
      ],
      "execution_count": 0,
      "outputs": []
    },
    {
      "cell_type": "code",
      "metadata": {
        "id": "dT9Vr0sVLRsC",
        "colab_type": "code",
        "colab": {
          "base_uri": "https://localhost:8080/",
          "height": 35
        },
        "outputId": "3c5d9aa1-fd7a-4523-a79a-50dd98577816"
      },
      "source": [
        "recovered_hint"
      ],
      "execution_count": 18,
      "outputs": [
        {
          "output_type": "execute_result",
          "data": {
            "text/plain": [
              "array([[0, 1, 0, 0]])"
            ]
          },
          "metadata": {
            "tags": []
          },
          "execution_count": 18
        }
      ]
    },
    {
      "cell_type": "code",
      "metadata": {
        "id": "MEv6ilRDLVMC",
        "colab_type": "code",
        "colab": {
          "base_uri": "https://localhost:8080/",
          "height": 35
        },
        "outputId": "ef9615d0-57ac-4fdb-b2bb-f2743d3f37bf"
      },
      "source": [
        "zero_hint"
      ],
      "execution_count": 19,
      "outputs": [
        {
          "output_type": "execute_result",
          "data": {
            "text/plain": [
              "matrix([[0, 1, 0, 0]])"
            ]
          },
          "metadata": {
            "tags": []
          },
          "execution_count": 19
        }
      ]
    },
    {
      "cell_type": "code",
      "metadata": {
        "id": "IZI8vaTiMQzV",
        "colab_type": "code",
        "colab": {}
      },
      "source": [
        "recovered_one, recovered_hint = bamnet.predict(half_one)"
      ],
      "execution_count": 0,
      "outputs": []
    },
    {
      "cell_type": "code",
      "metadata": {
        "id": "8FAnOkVdMdjo",
        "colab_type": "code",
        "colab": {
          "base_uri": "https://localhost:8080/",
          "height": 35
        },
        "outputId": "b178f16b-c813-4731-ffc3-c8148b24345f"
      },
      "source": [
        "recovered_hint"
      ],
      "execution_count": 25,
      "outputs": [
        {
          "output_type": "execute_result",
          "data": {
            "text/plain": [
              "array([[1, 0, 0, 0]])"
            ]
          },
          "metadata": {
            "tags": []
          },
          "execution_count": 25
        }
      ]
    },
    {
      "cell_type": "code",
      "metadata": {
        "id": "cjbMuje9MftP",
        "colab_type": "code",
        "colab": {
          "base_uri": "https://localhost:8080/",
          "height": 35
        },
        "outputId": "442b784f-6e9a-48ae-aed2-74abb07f7ffd"
      },
      "source": [
        "one_hint"
      ],
      "execution_count": 26,
      "outputs": [
        {
          "output_type": "execute_result",
          "data": {
            "text/plain": [
              "matrix([[1, 0, 0, 0]])"
            ]
          },
          "metadata": {
            "tags": []
          },
          "execution_count": 26
        }
      ]
    }
  ]
}