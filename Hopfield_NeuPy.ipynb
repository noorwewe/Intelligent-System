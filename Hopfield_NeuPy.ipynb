{
  "nbformat": 4,
  "nbformat_minor": 0,
  "metadata": {
    "colab": {
      "name": "Hopfield_NeuPy.ipynb",
      "provenance": [],
      "authorship_tag": "ABX9TyNNFy8ZDsmrOHoh0SBWQMRw",
      "include_colab_link": true
    },
    "kernelspec": {
      "name": "python3",
      "display_name": "Python 3"
    }
  },
  "cells": [
    {
      "cell_type": "markdown",
      "metadata": {
        "id": "view-in-github",
        "colab_type": "text"
      },
      "source": [
        "<a href=\"https://colab.research.google.com/github/noorwewe/Intelligent-System/blob/Recurrent-neural-network/Hopfield_NeuPy.ipynb\" target=\"_parent\"><img src=\"https://colab.research.google.com/assets/colab-badge.svg\" alt=\"Open In Colab\"/></a>"
      ]
    },
    {
      "cell_type": "code",
      "metadata": {
        "id": "mLfFWy_XOXye",
        "colab_type": "code",
        "colab": {}
      },
      "source": [
        "!pip install neupy"
      ],
      "execution_count": 0,
      "outputs": []
    },
    {
      "cell_type": "code",
      "metadata": {
        "id": "brBhBX3rOcKB",
        "colab_type": "code",
        "colab": {}
      },
      "source": [
        "import numpy as np\n",
        "from neupy import algorithms"
      ],
      "execution_count": 0,
      "outputs": []
    },
    {
      "cell_type": "code",
      "metadata": {
        "id": "wAWXYDOvOnVK",
        "colab_type": "code",
        "colab": {}
      },
      "source": [
        "one = np.matrix([1, 1, 1, 1])\n",
        "zero = np.matrix([0, 0, 0, 0])"
      ],
      "execution_count": 0,
      "outputs": []
    },
    {
      "cell_type": "code",
      "metadata": {
        "id": "kmomblVAPLEW",
        "colab_type": "code",
        "colab": {}
      },
      "source": [
        "distorted_one = np.matrix([1,1,0,1])\n",
        "distorted_zero = np.matrix([1,0,0,0])"
      ],
      "execution_count": 0,
      "outputs": []
    },
    {
      "cell_type": "code",
      "metadata": {
        "id": "KR76YGGjPawD",
        "colab_type": "code",
        "colab": {}
      },
      "source": [
        "data = np.concatenate([one, zero],axis=0)"
      ],
      "execution_count": 0,
      "outputs": []
    },
    {
      "cell_type": "code",
      "metadata": {
        "id": "60X_gxZ4RgHx",
        "colab_type": "code",
        "colab": {}
      },
      "source": [
        "dhnet = algorithms.DiscreteHopfieldNetwork()"
      ],
      "execution_count": 0,
      "outputs": []
    },
    {
      "cell_type": "code",
      "metadata": {
        "id": "G2JRQ8tARjIN",
        "colab_type": "code",
        "colab": {}
      },
      "source": [
        "dhnet.train(data)"
      ],
      "execution_count": 0,
      "outputs": []
    },
    {
      "cell_type": "code",
      "metadata": {
        "id": "ZmXnFpzRSC4A",
        "colab_type": "code",
        "colab": {
          "base_uri": "https://localhost:8080/",
          "height": 35
        },
        "outputId": "72aa7508-7a03-4a21-9af1-9aacf27c3c71"
      },
      "source": [
        "result = dhnet.predict(distorted_one)\n",
        "print (result)"
      ],
      "execution_count": 48,
      "outputs": [
        {
          "output_type": "stream",
          "text": [
            "[[1 1 1 1]]\n"
          ],
          "name": "stdout"
        }
      ]
    },
    {
      "cell_type": "code",
      "metadata": {
        "id": "M-ce4HWUTIT-",
        "colab_type": "code",
        "colab": {
          "base_uri": "https://localhost:8080/",
          "height": 35
        },
        "outputId": "66561b9f-2a84-48ae-d5b8-cf7c26ae7bc2"
      },
      "source": [
        "result = dhnet.predict(distorted_zero)\n",
        "print (result)"
      ],
      "execution_count": 49,
      "outputs": [
        {
          "output_type": "stream",
          "text": [
            "[[0 0 0 0]]\n"
          ],
          "name": "stdout"
        }
      ]
    }
  ]
}