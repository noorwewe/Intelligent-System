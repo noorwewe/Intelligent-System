{
  "nbformat": 4,
  "nbformat_minor": 0,
  "metadata": {
    "colab": {
      "name": "BAM.ipynb",
      "provenance": [],
      "authorship_tag": "ABX9TyPi5GfoCOGCDqe0ZI3V8YXp",
      "include_colab_link": true
    },
    "kernelspec": {
      "name": "python3",
      "display_name": "Python 3"
    }
  },
  "cells": [
    {
      "cell_type": "markdown",
      "metadata": {
        "id": "view-in-github",
        "colab_type": "text"
      },
      "source": [
        "<a href=\"https://colab.research.google.com/github/noorwewe/Intelligent-System/blob/Recurrent-neural-network/BAM.ipynb\" target=\"_parent\"><img src=\"https://colab.research.google.com/assets/colab-badge.svg\" alt=\"Open In Colab\"/></a>"
      ]
    },
    {
      "cell_type": "markdown",
      "metadata": {
        "id": "UC9Q7jvKWqod",
        "colab_type": "text"
      },
      "source": [
        "Import Library"
      ]
    },
    {
      "cell_type": "code",
      "metadata": {
        "id": "6ODtq-i0WgZJ",
        "colab_type": "code",
        "colab": {}
      },
      "source": [
        "import numpy as np"
      ],
      "execution_count": 0,
      "outputs": []
    },
    {
      "cell_type": "markdown",
      "metadata": {
        "id": "VA9r6esqWwWc",
        "colab_type": "text"
      },
      "source": [
        "Menghitung matrix W dan pengujian"
      ]
    },
    {
      "cell_type": "code",
      "metadata": {
        "id": "u5qIXunoW2Xy",
        "colab_type": "code",
        "colab": {
          "base_uri": "https://localhost:8080/",
          "height": 88
        },
        "outputId": "ff72954c-2d1f-42fd-e6c0-e9d65e1d9d3f"
      },
      "source": [
        "X1 = np.matrix([1,1,1,1,1,1])\n",
        "Y1 = np.matrix([1,1,1])\n",
        "X2 = np.matrix([-1,-1,-1,-1,-1,-1])\n",
        "Y2 = np.matrix([-1,-1,-1])\n",
        "X3 = np.matrix([1,1,-1,-1,1,1])\n",
        "Y3 = np.matrix([1,-1,1])\n",
        "X4 = np.matrix([-1,-1,1,1,-1,-1])\n",
        "Y4 = np.matrix([-1,1,-1])\n",
        "\n",
        "W = np.multiply(np.transpose(X1),Y1) + np.multiply(np.transpose(X2),Y2) + np.multiply(np.transpose(X3),Y3) + np.multiply(np.transpose(X4),Y4) \n",
        "\n",
        "Yinput1 = np.transpose(X1)\n",
        "Yinput2 = np.transpose(X2)\n",
        "Yinput3 = np.transpose(X3)\n",
        "Yinput4 = np.transpose(X4)\n",
        "Yout1 = np.sign(np.matmul(np.transpose(W),Yinput1))\n",
        "Yout2 = np.sign(np.matmul(np.transpose(W),Yinput2))\n",
        "Yout3 = np.sign(np.matmul(np.transpose(W),Yinput3))\n",
        "Yout4 = np.sign(np.matmul(np.transpose(W),Yinput4))\n",
        "\n",
        "comparison1 = Yout1 == np.transpose(Y1)\n",
        "comparison2 = Yout2 == np.transpose(Y2)\n",
        "comparison3 = Yout3 == np.transpose(Y3)\n",
        "comparison4 = Yout4 == np.transpose(Y4)\n",
        "\n",
        "if comparison1.all():\n",
        "  print(\"State 1 Valid\")\n",
        "if comparison2.all():\n",
        "  print(\"State 2 Valid\")\n",
        "if comparison3.all():\n",
        "  print(\"State 3 Valid\")\n",
        "if comparison4.all():\n",
        "  print(\"State 4 Valid\")"
      ],
      "execution_count": 7,
      "outputs": [
        {
          "output_type": "stream",
          "text": [
            "State 1 Valid\n",
            "State 2 Valid\n",
            "State 3 Valid\n",
            "State 4 Valid\n"
          ],
          "name": "stdout"
        }
      ]
    },
    {
      "cell_type": "markdown",
      "metadata": {
        "id": "sCidkpG5b_hQ",
        "colab_type": "text"
      },
      "source": [
        "Iterasi Asosiasi X ke Y dan sebaliknya"
      ]
    },
    {
      "cell_type": "code",
      "metadata": {
        "id": "FGQ7CuC2cBZg",
        "colab_type": "code",
        "colab": {
          "base_uri": "https://localhost:8080/",
          "height": 1000
        },
        "outputId": "71e702c7-4f11-40e4-a846-0c9d7c0b965f"
      },
      "source": [
        "inputan = np.transpose(np.matrix([-1,1,1,1,1,1]))\n",
        "for j in range(10):\n",
        "  if len(inputan) == 6:\n",
        "    inputan=np.sign(np.matmul(np.transpose(W),inputan))\n",
        "  else:\n",
        "    inputan=np.sign(np.matmul(W,inputan))\n",
        "  p = j+1\n",
        "  print (\"------\")\n",
        "  print(\"Iterasi ke\")\n",
        "  print(p)\n",
        "  print(\"Hasil Iterasi (X atau Y)\")\n",
        "  print(inputan)\n",
        "  print (\"------\")"
      ],
      "execution_count": 24,
      "outputs": [
        {
          "output_type": "stream",
          "text": [
            "------\n",
            "Iterasi ke\n",
            "1\n",
            "Hasil Iterasi (X atau Y)\n",
            "[[1]\n",
            " [1]\n",
            " [1]]\n",
            "------\n",
            "------\n",
            "Iterasi ke\n",
            "2\n",
            "Hasil Iterasi (X atau Y)\n",
            "[[1]\n",
            " [1]\n",
            " [1]\n",
            " [1]\n",
            " [1]\n",
            " [1]]\n",
            "------\n",
            "------\n",
            "Iterasi ke\n",
            "3\n",
            "Hasil Iterasi (X atau Y)\n",
            "[[1]\n",
            " [1]\n",
            " [1]]\n",
            "------\n",
            "------\n",
            "Iterasi ke\n",
            "4\n",
            "Hasil Iterasi (X atau Y)\n",
            "[[1]\n",
            " [1]\n",
            " [1]\n",
            " [1]\n",
            " [1]\n",
            " [1]]\n",
            "------\n",
            "------\n",
            "Iterasi ke\n",
            "5\n",
            "Hasil Iterasi (X atau Y)\n",
            "[[1]\n",
            " [1]\n",
            " [1]]\n",
            "------\n",
            "------\n",
            "Iterasi ke\n",
            "6\n",
            "Hasil Iterasi (X atau Y)\n",
            "[[1]\n",
            " [1]\n",
            " [1]\n",
            " [1]\n",
            " [1]\n",
            " [1]]\n",
            "------\n",
            "------\n",
            "Iterasi ke\n",
            "7\n",
            "Hasil Iterasi (X atau Y)\n",
            "[[1]\n",
            " [1]\n",
            " [1]]\n",
            "------\n",
            "------\n",
            "Iterasi ke\n",
            "8\n",
            "Hasil Iterasi (X atau Y)\n",
            "[[1]\n",
            " [1]\n",
            " [1]\n",
            " [1]\n",
            " [1]\n",
            " [1]]\n",
            "------\n",
            "------\n",
            "Iterasi ke\n",
            "9\n",
            "Hasil Iterasi (X atau Y)\n",
            "[[1]\n",
            " [1]\n",
            " [1]]\n",
            "------\n",
            "------\n",
            "Iterasi ke\n",
            "10\n",
            "Hasil Iterasi (X atau Y)\n",
            "[[1]\n",
            " [1]\n",
            " [1]\n",
            " [1]\n",
            " [1]\n",
            " [1]]\n",
            "------\n"
          ],
          "name": "stdout"
        }
      ]
    }
  ]
}