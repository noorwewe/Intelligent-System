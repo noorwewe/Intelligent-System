{
  "nbformat": 4,
  "nbformat_minor": 0,
  "metadata": {
    "colab": {
      "name": "Hopfield Neurolab.ipynb",
      "provenance": [],
      "authorship_tag": "ABX9TyMuRv60fqLVGQd9yqZjAvBJ",
      "include_colab_link": true
    },
    "kernelspec": {
      "name": "python3",
      "display_name": "Python 3"
    }
  },
  "cells": [
    {
      "cell_type": "markdown",
      "metadata": {
        "id": "view-in-github",
        "colab_type": "text"
      },
      "source": [
        "<a href=\"https://colab.research.google.com/github/noorwewe/Intelligent-System/blob/Recurrent-neural-network/Hopfield_Neurolab.ipynb\" target=\"_parent\"><img src=\"https://colab.research.google.com/assets/colab-badge.svg\" alt=\"Open In Colab\"/></a>"
      ]
    },
    {
      "cell_type": "code",
      "metadata": {
        "id": "D23iwl-xDCZO",
        "colab_type": "code",
        "outputId": "0140da64-8c1b-4d26-df92-2948bb764ccc",
        "colab": {
          "base_uri": "https://localhost:8080/",
          "height": 195
        }
      },
      "source": [
        "!pip install neurolab"
      ],
      "execution_count": 0,
      "outputs": [
        {
          "output_type": "stream",
          "text": [
            "Collecting neurolab\n",
            "\u001b[?25l  Downloading https://files.pythonhosted.org/packages/46/fd/47a9a39158b461b6b862d64c0ad7f679b08ed6d316744299f0db89066342/neurolab-0.3.5.tar.gz (645kB)\n",
            "\r\u001b[K     |▌                               | 10kB 19.2MB/s eta 0:00:01\r\u001b[K     |█                               | 20kB 1.8MB/s eta 0:00:01\r\u001b[K     |█▌                              | 30kB 2.6MB/s eta 0:00:01\r\u001b[K     |██                              | 40kB 3.4MB/s eta 0:00:01\r\u001b[K     |██▌                             | 51kB 2.1MB/s eta 0:00:01\r\u001b[K     |███                             | 61kB 2.6MB/s eta 0:00:01\r\u001b[K     |███▌                            | 71kB 3.0MB/s eta 0:00:01\r\u001b[K     |████                            | 81kB 3.3MB/s eta 0:00:01\r\u001b[K     |████▋                           | 92kB 2.6MB/s eta 0:00:01\r\u001b[K     |█████                           | 102kB 2.8MB/s eta 0:00:01\r\u001b[K     |█████▋                          | 112kB 2.8MB/s eta 0:00:01\r\u001b[K     |██████                          | 122kB 2.8MB/s eta 0:00:01\r\u001b[K     |██████▋                         | 133kB 2.8MB/s eta 0:00:01\r\u001b[K     |███████                         | 143kB 2.8MB/s eta 0:00:01\r\u001b[K     |███████▋                        | 153kB 2.8MB/s eta 0:00:01\r\u001b[K     |████████▏                       | 163kB 2.8MB/s eta 0:00:01\r\u001b[K     |████████▋                       | 174kB 2.8MB/s eta 0:00:01\r\u001b[K     |█████████▏                      | 184kB 2.8MB/s eta 0:00:01\r\u001b[K     |█████████▋                      | 194kB 2.8MB/s eta 0:00:01\r\u001b[K     |██████████▏                     | 204kB 2.8MB/s eta 0:00:01\r\u001b[K     |██████████▋                     | 215kB 2.8MB/s eta 0:00:01\r\u001b[K     |███████████▏                    | 225kB 2.8MB/s eta 0:00:01\r\u001b[K     |███████████▊                    | 235kB 2.8MB/s eta 0:00:01\r\u001b[K     |████████████▏                   | 245kB 2.8MB/s eta 0:00:01\r\u001b[K     |████████████▊                   | 256kB 2.8MB/s eta 0:00:01\r\u001b[K     |█████████████▏                  | 266kB 2.8MB/s eta 0:00:01\r\u001b[K     |█████████████▊                  | 276kB 2.8MB/s eta 0:00:01\r\u001b[K     |██████████████▏                 | 286kB 2.8MB/s eta 0:00:01\r\u001b[K     |██████████████▊                 | 296kB 2.8MB/s eta 0:00:01\r\u001b[K     |███████████████▎                | 307kB 2.8MB/s eta 0:00:01\r\u001b[K     |███████████████▊                | 317kB 2.8MB/s eta 0:00:01\r\u001b[K     |████████████████▎               | 327kB 2.8MB/s eta 0:00:01\r\u001b[K     |████████████████▊               | 337kB 2.8MB/s eta 0:00:01\r\u001b[K     |█████████████████▎              | 348kB 2.8MB/s eta 0:00:01\r\u001b[K     |█████████████████▊              | 358kB 2.8MB/s eta 0:00:01\r\u001b[K     |██████████████████▎             | 368kB 2.8MB/s eta 0:00:01\r\u001b[K     |██████████████████▉             | 378kB 2.8MB/s eta 0:00:01\r\u001b[K     |███████████████████▎            | 389kB 2.8MB/s eta 0:00:01\r\u001b[K     |███████████████████▉            | 399kB 2.8MB/s eta 0:00:01\r\u001b[K     |████████████████████▎           | 409kB 2.8MB/s eta 0:00:01\r\u001b[K     |████████████████████▉           | 419kB 2.8MB/s eta 0:00:01\r\u001b[K     |█████████████████████▎          | 430kB 2.8MB/s eta 0:00:01\r\u001b[K     |█████████████████████▉          | 440kB 2.8MB/s eta 0:00:01\r\u001b[K     |██████████████████████▍         | 450kB 2.8MB/s eta 0:00:01\r\u001b[K     |██████████████████████▉         | 460kB 2.8MB/s eta 0:00:01\r\u001b[K     |███████████████████████▍        | 471kB 2.8MB/s eta 0:00:01\r\u001b[K     |███████████████████████▉        | 481kB 2.8MB/s eta 0:00:01\r\u001b[K     |████████████████████████▍       | 491kB 2.8MB/s eta 0:00:01\r\u001b[K     |████████████████████████▉       | 501kB 2.8MB/s eta 0:00:01\r\u001b[K     |█████████████████████████▍      | 512kB 2.8MB/s eta 0:00:01\r\u001b[K     |██████████████████████████      | 522kB 2.8MB/s eta 0:00:01\r\u001b[K     |██████████████████████████▍     | 532kB 2.8MB/s eta 0:00:01\r\u001b[K     |███████████████████████████     | 542kB 2.8MB/s eta 0:00:01\r\u001b[K     |███████████████████████████▍    | 552kB 2.8MB/s eta 0:00:01\r\u001b[K     |████████████████████████████    | 563kB 2.8MB/s eta 0:00:01\r\u001b[K     |████████████████████████████▍   | 573kB 2.8MB/s eta 0:00:01\r\u001b[K     |█████████████████████████████   | 583kB 2.8MB/s eta 0:00:01\r\u001b[K     |█████████████████████████████▌  | 593kB 2.8MB/s eta 0:00:01\r\u001b[K     |██████████████████████████████  | 604kB 2.8MB/s eta 0:00:01\r\u001b[K     |██████████████████████████████▌ | 614kB 2.8MB/s eta 0:00:01\r\u001b[K     |███████████████████████████████ | 624kB 2.8MB/s eta 0:00:01\r\u001b[K     |███████████████████████████████▌| 634kB 2.8MB/s eta 0:00:01\r\u001b[K     |████████████████████████████████| 645kB 2.8MB/s eta 0:00:01\r\u001b[K     |████████████████████████████████| 655kB 2.8MB/s \n",
            "\u001b[?25hBuilding wheels for collected packages: neurolab\n",
            "  Building wheel for neurolab (setup.py) ... \u001b[?25l\u001b[?25hdone\n",
            "  Created wheel for neurolab: filename=neurolab-0.3.5-cp36-none-any.whl size=22180 sha256=1f59d64d54acba8cd29eb03e6975a62d4ebd857b8af286839bac64ea6a87b2e1\n",
            "  Stored in directory: /root/.cache/pip/wheels/c6/8f/37/32ab1cf4d601dc0bc49d7241012a4292db4b343bebff5b68e6\n",
            "Successfully built neurolab\n",
            "Installing collected packages: neurolab\n",
            "Successfully installed neurolab-0.3.5\n"
          ],
          "name": "stdout"
        }
      ]
    },
    {
      "cell_type": "code",
      "metadata": {
        "id": "xh0vT5RCDC8M",
        "colab_type": "code",
        "outputId": "b4a6e3cc-ffc8-4f68-e334-5a7e00741d76",
        "colab": {
          "base_uri": "https://localhost:8080/",
          "height": 230
        }
      },
      "source": [
        "# -*- coding: utf-8 -*-\n",
        "\"\"\"\n",
        "Example of use Hopfield Recurrent network\n",
        "=========================================\n",
        "\n",
        "Task: Recognition of positive and negative arrays\n",
        "\n",
        "\"\"\"\n",
        "\n",
        "import numpy as np\n",
        "import neurolab as nl\n",
        "\n",
        "# \n",
        "target =  [[1,1,1,1],\n",
        "          [-1,-1,-1,-1]]\n",
        "\n",
        "chars = ['Positif', 'Negatif']\n",
        "target = np.asfarray(target)\n",
        "\n",
        "# Create and train network\n",
        "net = nl.net.newhop(target)\n",
        "\n",
        "print(\"\\nTest on Target:\")\n",
        "output = net.sim(target)\n",
        "print(output)\n",
        "\n",
        "print(\"\\nTest on distorted Positif:\")\n",
        "test =np.asfarray([1,-1,1,1])\n",
        "print(test)\n",
        "out = net.sim([test])\n",
        "print(out)\n",
        "\n",
        "print(\"\\nTest on distorted Negatif:\")\n",
        "test =np.asfarray([1,-1,-1,-1])\n",
        "print(test)\n",
        "out = net.sim([test])\n",
        "print(out)\n"
      ],
      "execution_count": 0,
      "outputs": [
        {
          "output_type": "stream",
          "text": [
            "\n",
            "Test on Target:\n",
            "[[ 1.  1.  1.  1.]\n",
            " [-1. -1. -1. -1.]]\n",
            "\n",
            "Test on distorted Positif:\n",
            "[ 1. -1.  1.  1.]\n",
            "[[1. 1. 1. 1.]]\n",
            "\n",
            "Test on distorted Negatif:\n",
            "[ 1. -1. -1. -1.]\n",
            "[[-1. -1. -1. -1.]]\n"
          ],
          "name": "stdout"
        }
      ]
    }
  ]
}